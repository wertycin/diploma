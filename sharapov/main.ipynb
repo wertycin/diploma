{
 "cells": [
  {
   "cell_type": "markdown",
   "metadata": {},
   "source": [
    "## Иследование публикационной активности по теме ВКР\n",
    "В ходе работы в результате поиска по ключевым словам \"EMG\" AND \"Hand gesture recognition\" AND \"real time\" в открытых базах ScienceDirect и Dimensions было подсчитано количество публикаций за каждый год с 2010 по 2023 включительно. Данные были записаны в txt файлы построчно, начиная с 2010 года."
   ]
  },
  {
   "cell_type": "code",
   "execution_count": 18,
   "metadata": {},
   "outputs": [
    {
     "data": {
      "text/plain": [
       "[array([ 4.,  7.,  1.,  4.,  9., 18., 23., 40., 38., 54., 55., 72., 67.,\n",
       "        54.]),\n",
       " array([ 10.,  13.,  17.,  19.,  38.,  25.,  24.,  54.,  54.,  62.,  88.,\n",
       "        124., 126., 138.])]"
      ]
     },
     "execution_count": 18,
     "metadata": {},
     "output_type": "execute_result"
    }
   ],
   "source": [
    "import numpy as np # подключаем NumPy\n",
    "N = 2\n",
    "data = [[0] for i in range(N)] # массив данных\n",
    "data[0] = np.loadtxt('dimensions.txt', dtype=float) # данные из Dimensions\n",
    "data[1] = np.loadtxt('sciencedirect.txt', dtype=float) # данные из ScienceDirect\n",
    "data"
   ]
  },
  {
   "cell_type": "code",
   "execution_count": 19,
   "metadata": {},
   "outputs": [
    {
     "ename": "TypeError",
     "evalue": "_linspace_dispatcher() got an unexpected keyword argument 'interval'",
     "output_type": "error",
     "traceback": [
      "\u001b[0;31m---------------------------------------------------------------------------\u001b[0m",
      "\u001b[0;31mTypeError\u001b[0m                                 Traceback (most recent call last)",
      "\u001b[1;32m/Users/admin/Desktop/Python/sharapov/main.ipynb Ячейка 3\u001b[0m line \u001b[0;36m<cell line: 3>\u001b[0;34m()\u001b[0m\n\u001b[1;32m      <a href='vscode-notebook-cell:/Users/admin/Desktop/Python/sharapov/main.ipynb#W3sZmlsZQ%3D%3D?line=0'>1</a>\u001b[0m \u001b[39mimport\u001b[39;00m \u001b[39mmatplotlib\u001b[39;00m\u001b[39m.\u001b[39;00m\u001b[39mpyplot\u001b[39;00m \u001b[39mas\u001b[39;00m \u001b[39mplt\u001b[39;00m \u001b[39m# подключаем MatPlotLib\u001b[39;00m\n\u001b[0;32m----> <a href='vscode-notebook-cell:/Users/admin/Desktop/Python/sharapov/main.ipynb#W3sZmlsZQ%3D%3D?line=2'>3</a>\u001b[0m X \u001b[39m=\u001b[39m np\u001b[39m.\u001b[39;49mlinspace(\u001b[39m2010\u001b[39;49m, \u001b[39m2024\u001b[39;49m, interval \u001b[39m=\u001b[39;49m \u001b[39m1\u001b[39;49m)\n\u001b[1;32m      <a href='vscode-notebook-cell:/Users/admin/Desktop/Python/sharapov/main.ipynb#W3sZmlsZQ%3D%3D?line=3'>4</a>\u001b[0m X\n",
      "File \u001b[0;32m<__array_function__ internals>:179\u001b[0m, in \u001b[0;36mlinspace\u001b[0;34m(*args, **kwargs)\u001b[0m\n",
      "\u001b[0;31mTypeError\u001b[0m: _linspace_dispatcher() got an unexpected keyword argument 'interval'"
     ]
    }
   ],
   "source": [
    "import matplotlib.pyplot as plt # подключаем MatPlotLib\n",
    "\n",
    "X = np.linspace(2010, 2024)\n",
    "X"
   ]
  }
 ],
 "metadata": {
  "kernelspec": {
   "display_name": "base",
   "language": "python",
   "name": "python3"
  },
  "language_info": {
   "codemirror_mode": {
    "name": "ipython",
    "version": 3
   },
   "file_extension": ".py",
   "mimetype": "text/x-python",
   "name": "python",
   "nbconvert_exporter": "python",
   "pygments_lexer": "ipython3",
   "version": "3.9.12"
  }
 },
 "nbformat": 4,
 "nbformat_minor": 2
}
